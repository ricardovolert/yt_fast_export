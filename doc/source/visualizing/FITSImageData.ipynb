{
 "metadata": {
  "name": "",
  "signature": "sha256:c7de5ef190feaa2289595aec7eaa05db02fd535e408e0d04aa54088b0bd3ebae"
 },
 "nbformat": 3,
 "nbformat_minor": 0,
 "worksheets": [
  {
   "cells": [
    {
     "cell_type": "markdown",
     "metadata": {},
     "source": [
      "yt has capabilities for writing 2D and 3D uniformly gridded data generated from datasets to FITS files. This is via the `FITSImageData` class. We'll test these capabilities out on an Athena dataset."
     ]
    },
    {
     "cell_type": "code",
     "collapsed": false,
     "input": [
      "import yt\n",
      "from yt.utilities.fits_image import FITSImageData, FITSProjection"
     ],
     "language": "python",
     "metadata": {},
     "outputs": []
    },
    {
     "cell_type": "code",
     "collapsed": false,
     "input": [
      "ds = yt.load(\"MHDSloshing/virgo_low_res.0054.vtk\", parameters={\"length_unit\":(1.0,\"Mpc\"),\n",
      "                                                               \"mass_unit\":(1.0e14,\"Msun\"),\n",
      "                                                               \"time_unit\":(1.0,\"Myr\")})"
     ],
     "language": "python",
     "metadata": {},
     "outputs": []
    },
    {
     "cell_type": "heading",
     "level": 2,
     "metadata": {},
     "source": [
      "Creating FITS images from Slices and Projections"
     ]
    },
    {
     "cell_type": "markdown",
     "metadata": {},
     "source": [
      "There are several ways to make a `FITSImageData` instance. The most intuitive ways are to use the `FITSSlice`, `FITSProjection`, `FITSOffAxisSlice`, and `FITSOffAxisProjection` classes to write slices and projections directly to FITS. To demonstrate a useful example of creating a FITS file, let's first make a `ProjectionPlot`:"
     ]
    },
    {
     "cell_type": "code",
     "collapsed": false,
     "input": [
      "prj = yt.ProjectionPlot(ds, \"z\", [\"temperature\"], weight_field=\"density\", width=(500.,\"kpc\"))\n",
      "prj.show()"
     ],
     "language": "python",
     "metadata": {},
     "outputs": []
    },
    {
     "cell_type": "markdown",
     "metadata": {},
     "source": [
      "Suppose that we wanted to write this projection to a FITS file for analysis and visualization in other programs, such as ds9. We can do that using `FITSProjection`:"
     ]
    },
    {
     "cell_type": "code",
     "collapsed": false,
     "input": [
      "prj_fits = FITSProjection(ds, \"z\", [\"temperature\"], weight_field=\"density\")"
     ],
     "language": "python",
     "metadata": {},
     "outputs": []
    },
    {
     "cell_type": "markdown",
     "metadata": {},
     "source": [
      "which took the same parameters as `ProjectionPlot` except the width, because `FITSProjection` and `FITSSlice` always make slices and projections of the width of the domain size, at the finest resolution available in the simulation, in a unit determined to be appropriate for the physical size of the dataset."
     ]
    },
    {
     "cell_type": "markdown",
     "metadata": {},
     "source": [
      "Because `FITSImageData` inherits from the [AstroPy `HDUList`](http://astropy.readthedocs.org/en/latest/io/fits/api/hdulists.html) class, we can call its methods. For example, `info` shows us the contents of the virtual FITS file:"
     ]
    },
    {
     "cell_type": "code",
     "collapsed": false,
     "input": [
      "prj_fits.info()"
     ],
     "language": "python",
     "metadata": {},
     "outputs": []
    },
    {
     "cell_type": "markdown",
     "metadata": {},
     "source": [
      "We can also look at the header for a particular field:"
     ]
    },
    {
     "cell_type": "code",
     "collapsed": false,
     "input": [
      "prj_fits[\"temperature\"].header"
     ],
     "language": "python",
     "metadata": {},
     "outputs": []
    },
    {
     "cell_type": "markdown",
     "metadata": {},
     "source": [
      "where we can see that the temperature units are in Kelvin and the cell widths are in kiloparsecs. If we want the raw image data with units, we can call `get_data`:"
     ]
    },
    {
     "cell_type": "code",
     "collapsed": false,
     "input": [
      "prj_fits.get_data(\"temperature\")"
     ],
     "language": "python",
     "metadata": {},
     "outputs": []
    },
    {
     "cell_type": "markdown",
     "metadata": {},
     "source": [
      "We can use the `set_unit` method to change the units of a particular field:"
     ]
    },
    {
     "cell_type": "code",
     "collapsed": false,
     "input": [
      "prj_fits.set_unit(\"temperature\",\"R\")\n",
      "prj_fits.get_data(\"temperature\")"
     ],
     "language": "python",
     "metadata": {},
     "outputs": []
    },
    {
     "cell_type": "markdown",
     "metadata": {},
     "source": [
      "The image can be written to disk using the `writeto` method:"
     ]
    },
    {
     "cell_type": "code",
     "collapsed": false,
     "input": [
      "prj_fits.writeto(\"sloshing.fits\", clobber=True)"
     ],
     "language": "python",
     "metadata": {},
     "outputs": []
    },
    {
     "cell_type": "markdown",
     "metadata": {},
     "source": [
      "Since yt can read FITS image files, it can be loaded up just like any other dataset:"
     ]
    },
    {
     "cell_type": "code",
     "collapsed": false,
     "input": [
      "ds2 = yt.load(\"sloshing.fits\")"
     ],
     "language": "python",
     "metadata": {},
     "outputs": []
    },
    {
     "cell_type": "markdown",
     "metadata": {},
     "source": [
      "and we can make a `SlicePlot` of the 2D image, which shows the same data as the previous image:"
     ]
    },
    {
     "cell_type": "code",
     "collapsed": false,
     "input": [
      "slc2 = yt.SlicePlot(ds2, \"z\", [\"temperature\"], width=(500.,\"kpc\"))\n",
      "slc2.set_log(\"temperature\", True)\n",
      "slc2.show()"
     ],
     "language": "python",
     "metadata": {},
     "outputs": []
    },
    {
     "cell_type": "heading",
     "level": 2,
     "metadata": {},
     "source": [
      "Using `FITSImageData` directly"
     ]
    },
    {
     "cell_type": "markdown",
     "metadata": {},
     "source": [
      "If you want more fine-grained control over what goes into the FITS file, you can call `FITSImageData` directly, with various kinds of inputs. For example, you could use a `FixedResolutionBuffer`, and specify you want the units in parsecs instead:"
     ]
    },
    {
     "cell_type": "code",
     "collapsed": false,
     "input": [
      "slc3 = ds.slice(0, 0.0)\n",
      "frb = slc3.to_frb((500.,\"kpc\"), 800)\n",
      "fid_frb = FITSImageData(frb, fields=[\"density\",\"temperature\"], units=\"pc\")"
     ],
     "language": "python",
     "metadata": {},
     "outputs": []
    },
    {
     "cell_type": "markdown",
     "metadata": {},
     "source": [
      "A 3D FITS cube can also be created from a covering grid:"
     ]
    },
    {
     "cell_type": "code",
     "collapsed": false,
     "input": [
      "cvg = ds.covering_grid(ds.index.max_level, [-0.5,-0.5,-0.5], [64, 64, 64], fields=[\"density\",\"temperature\"])\n",
      "fid_cvg = FITSImageData(cvg, fields=[\"density\",\"temperature\"], units=\"Mpc\")"
     ],
     "language": "python",
     "metadata": {},
     "outputs": []
    },
    {
     "cell_type": "heading",
     "level": 2,
     "metadata": {},
     "source": [
      "Other `FITSImageData` Methods"
     ]
    },
    {
     "cell_type": "markdown",
     "metadata": {},
     "source": [
      "A `FITSImageData` instance can be generated from one previously written to disk using the `from_file` classmethod:"
     ]
    },
    {
     "cell_type": "code",
     "collapsed": false,
     "input": [
      "fid = FITSImageData.from_file(\"sloshing.fits\")\n",
      "fid.info()"
     ],
     "language": "python",
     "metadata": {},
     "outputs": []
    },
    {
     "cell_type": "markdown",
     "metadata": {},
     "source": [
      "Multiple `FITSImageData` can be combined to create a new one, provided that the coordinate information is the same:"
     ]
    },
    {
     "cell_type": "code",
     "collapsed": false,
     "input": [
      "prj_fits2 = FITSProjection(ds, \"z\", [\"density\"])\n",
      "prj_fits3 = FITSImageData.from_images([prj_fits, prj_fits2])\n",
      "prj_fits3.info()"
     ],
     "language": "python",
     "metadata": {},
     "outputs": []
    },
    {
     "cell_type": "markdown",
     "metadata": {},
     "source": [
      "Alternatively, individual fields can be popped as well:"
     ]
    },
    {
     "cell_type": "code",
     "collapsed": false,
     "input": [
      "dens_fits = prj_fits3.pop(\"density\")"
     ],
     "language": "python",
     "metadata": {},
     "outputs": []
    },
    {
     "cell_type": "code",
     "collapsed": false,
     "input": [
      "dens_fits.info()"
     ],
     "language": "python",
     "metadata": {},
     "outputs": []
    },
    {
     "cell_type": "code",
     "collapsed": false,
     "input": [
      "prj_fits3.info()"
     ],
     "language": "python",
     "metadata": {},
     "outputs": []
    },
    {
     "cell_type": "markdown",
     "metadata": {},
     "source": [
      "So far, the FITS images we have shown have linear spatial coordinates. One may want to take a projection of an object and make a crude mock observation out of it, with celestial coordinates. For this, we can use the `create_sky_wcs` method. Specify a center (RA, Dec) coordinate in degrees, as well as a linear scale in terms of angle per distance:"
     ]
    },
    {
     "cell_type": "code",
     "collapsed": false,
     "input": [
      "sky_center = [30.,45.] # in degrees\n",
      "sky_scale = (2.5, \"arcsec/kpc\") # could also use a YTQuantity\n",
      "prj_fits.create_sky_wcs(sky_center, sky_scale, ctype=[\"RA---TAN\",\"DEC--TAN\"])"
     ],
     "language": "python",
     "metadata": {},
     "outputs": []
    },
    {
     "cell_type": "markdown",
     "metadata": {},
     "source": [
      "By the default, a tangent RA/Dec projection is used, but one could also use another projection using the `ctype` keyword. We can now look at the header and see it has the appropriate WCS:"
     ]
    },
    {
     "cell_type": "code",
     "collapsed": false,
     "input": [
      "prj_fits[\"temperature\"].header"
     ],
     "language": "python",
     "metadata": {},
     "outputs": []
    },
    {
     "cell_type": "markdown",
     "metadata": {},
     "source": [
      "Finally, we can add header keywords to a single field or for all fields in the FITS image using `update_header`:"
     ]
    },
    {
     "cell_type": "code",
     "collapsed": false,
     "input": [
      "fid_frb.update_header(\"all\", \"time\", 0.1) # Update all the fields\n",
      "fid_frb.update_header(\"temperature\", \"scale\", \"Rankine\") # Update just one field"
     ],
     "language": "python",
     "metadata": {},
     "outputs": []
    },
    {
     "cell_type": "code",
     "collapsed": false,
     "input": [
      "print fid_frb[\"density\"].header[\"time\"]\n",
      "print fid_frb[\"temperature\"].header[\"scale\"]"
     ],
     "language": "python",
     "metadata": {},
     "outputs": []
    }
   ],
   "metadata": {}
  }
 ]
}