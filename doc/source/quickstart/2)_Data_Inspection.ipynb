{
 "metadata": {
  "name": "",
  "signature": "sha256:aa71db12a131f0c31372abd6765e28d65d3ac831962150cf2107150c1d2057b9"
 },
 "nbformat": 3,
 "nbformat_minor": 0,
 "worksheets": [
  {
   "cells": [
    {
     "cell_type": "markdown",
     "metadata": {},
     "source": [
      "# Starting Out and Loading Data\n",
      "\n",
      "We're going to get started by loading up yt.  This next command brings all of the libraries into memory and sets up our environment."
     ]
    },
    {
     "cell_type": "code",
     "collapsed": false,
     "input": [
      "import yt"
     ],
     "language": "python",
     "metadata": {},
     "outputs": [],
     "prompt_number": 1
    },
    {
     "cell_type": "markdown",
     "metadata": {},
     "source": [
      "Now that we've loaded yt, we can load up some data.  Let's load the `IsolatedGalaxy` dataset."
     ]
    },
    {
     "cell_type": "code",
     "collapsed": false,
     "input": [
      "ds = yt.load(\"IsolatedGalaxy/galaxy0030/galaxy0030\")"
     ],
     "language": "python",
     "metadata": {},
     "outputs": [
      {
       "output_type": "stream",
       "stream": "stderr",
       "text": [
        "yt : [INFO     ] 2015-06-05 15:56:09,961 Parameters: current_time              = 0.00600002000283\n"
       ]
      },
      {
       "output_type": "stream",
       "stream": "stderr",
       "text": [
        "yt : [INFO     ] 2015-06-05 15:56:09,962 Parameters: domain_dimensions         = [32 32 32]\n"
       ]
      },
      {
       "output_type": "stream",
       "stream": "stderr",
       "text": [
        "yt : [INFO     ] 2015-06-05 15:56:09,965 Parameters: domain_left_edge          = [ 0.  0.  0.]\n"
       ]
      },
      {
       "output_type": "stream",
       "stream": "stderr",
       "text": [
        "yt : [INFO     ] 2015-06-05 15:56:09,966 Parameters: domain_right_edge         = [ 1.  1.  1.]\n"
       ]
      },
      {
       "output_type": "stream",
       "stream": "stderr",
       "text": [
        "yt : [INFO     ] 2015-06-05 15:56:09,966 Parameters: cosmological_simulation   = 0.0\n"
       ]
      }
     ],
     "prompt_number": 2
    },
    {
     "cell_type": "markdown",
     "metadata": {},
     "source": [
      "## Fields and Facts\n",
      "\n",
      "When you call the `load` function, yt tries to do very little -- this is designed to be a fast operation, just setting up some information about the simulation.  Now, the first time you access the \"index\" it will read and load the mesh and then determine where data is placed in the physical domain and on disk.  Once it knows that, yt can tell you some statistics about the simulation:"
     ]
    },
    {
     "cell_type": "code",
     "collapsed": false,
     "input": [
      "ds.print_stats()"
     ],
     "language": "python",
     "metadata": {},
     "outputs": [
      {
       "output_type": "stream",
       "stream": "stderr",
       "text": [
        "yt : [INFO     ] 2015-06-05 15:57:49,365 Gathering a field list (this may take a moment.)\n"
       ]
      },
      {
       "output_type": "stream",
       "stream": "stderr",
       "text": [
        "yt : [INFO     ] 2015-06-05 15:57:49,769 Loading field plugins.\n"
       ]
      },
      {
       "output_type": "stream",
       "stream": "stderr",
       "text": [
        "yt : [INFO     ] 2015-06-05 15:57:49,770 Loaded angular_momentum (8 new fields)\n"
       ]
      },
      {
       "output_type": "stream",
       "stream": "stderr",
       "text": [
        "yt : [INFO     ] 2015-06-05 15:57:49,770 Loaded astro (15 new fields)\n"
       ]
      },
      {
       "output_type": "stream",
       "stream": "stderr",
       "text": [
        "yt : [INFO     ] 2015-06-05 15:57:49,771 Loaded cosmology (22 new fields)\n"
       ]
      },
      {
       "output_type": "stream",
       "stream": "stderr",
       "text": [
        "yt : [INFO     ] 2015-06-05 15:57:49,772 Loaded fluid (64 new fields)\n"
       ]
      },
      {
       "output_type": "stream",
       "stream": "stderr",
       "text": [
        "yt : [INFO     ] 2015-06-05 15:57:49,773 Loaded fluid_vector (96 new fields)\n"
       ]
      },
      {
       "output_type": "stream",
       "stream": "stderr",
       "text": [
        "yt : [INFO     ] 2015-06-05 15:57:49,773 Loaded geometric (112 new fields)\n"
       ]
      },
      {
       "output_type": "stream",
       "stream": "stderr",
       "text": [
        "yt : [INFO     ] 2015-06-05 15:57:49,774 Loaded local (112 new fields)\n"
       ]
      },
      {
       "output_type": "stream",
       "stream": "stderr",
       "text": [
        "yt : [INFO     ] 2015-06-05 15:57:49,774 Loaded magnetic_field (120 new fields)\n"
       ]
      },
      {
       "output_type": "stream",
       "stream": "stderr",
       "text": [
        "yt : [INFO     ] 2015-06-05 15:57:49,774 Loaded my_plugins (120 new fields)\n"
       ]
      },
      {
       "output_type": "stream",
       "stream": "stderr",
       "text": [
        "yt : [INFO     ] 2015-06-05 15:57:49,776 Loaded species (140 new fields)\n"
       ]
      },
      {
       "output_type": "stream",
       "stream": "stdout",
       "text": [
        "level\t# grids\t       # cells\t     # cells^3\n",
        "----------------------------------------------\n",
        "  0\t     1\t         32768\t            32\n",
        "  1\t     8\t         34304\t            33\n",
        "  2\t     8\t        181888\t            57\n",
        "  3\t     8\t        646968\t            87\n",
        "  4\t    15\t        947856\t            99\n",
        "  5\t    51\t        874128\t            96\n",
        "  6\t    18\t        786328\t            93\n",
        "  7\t    28\t        446776\t            77\n",
        "  8\t    36\t        209400\t            60\n",
        "----------------------------------------------\n",
        "   \t   173\t       4160416\n",
        "\n",
        "\n",
        "t = 6.00002000e-03 = 1.39768066e+16 s = 4.42898275e+08 years\n",
        "\n",
        "Smallest Cell:\n",
        "\tWidth: 1.221e-04 Mpc\n",
        "\tWidth: 1.221e+02 pc\n",
        "\tWidth: 2.518e+07 AU\n",
        "\tWidth: 3.767e+20 cm\n"
       ]
      }
     ],
     "prompt_number": 3
    },
    {
     "cell_type": "markdown",
     "metadata": {},
     "source": [
      "yt can also tell you the fields it found on disk:"
     ]
    },
    {
     "cell_type": "code",
     "collapsed": false,
     "input": [
      "ds.field_list"
     ],
     "language": "python",
     "metadata": {},
     "outputs": []
    },
    {
     "cell_type": "markdown",
     "metadata": {},
     "source": [
      "And, all of the fields it thinks it knows how to generate:"
     ]
    },
    {
     "cell_type": "code",
     "collapsed": false,
     "input": [
      "ds.derived_field_list"
     ],
     "language": "python",
     "metadata": {},
     "outputs": []
    },
    {
     "cell_type": "markdown",
     "metadata": {},
     "source": [
      "yt can also transparently generate fields.  However, we encourage you to examine exactly what yt is doing when it generates those fields.  To see, you can ask for the source of a given field."
     ]
    },
    {
     "cell_type": "code",
     "collapsed": false,
     "input": [
      "print ds.field_info[\"gas\", \"vorticity_x\"].get_source()"
     ],
     "language": "python",
     "metadata": {},
     "outputs": []
    },
    {
     "cell_type": "markdown",
     "metadata": {},
     "source": [
      "yt stores information about the domain of the simulation:"
     ]
    },
    {
     "cell_type": "code",
     "collapsed": false,
     "input": [
      "print ds.domain_width"
     ],
     "language": "python",
     "metadata": {},
     "outputs": []
    },
    {
     "cell_type": "markdown",
     "metadata": {},
     "source": [
      "yt can also convert this into various units:"
     ]
    },
    {
     "cell_type": "code",
     "collapsed": false,
     "input": [
      "print ds.domain_width.in_units(\"kpc\")\n",
      "print ds.domain_width.in_units(\"au\")\n",
      "print ds.domain_width.in_units(\"mile\")"
     ],
     "language": "python",
     "metadata": {},
     "outputs": []
    },
    {
     "cell_type": "markdown",
     "metadata": {},
     "source": [
      "# Mesh Structure\n",
      "\n",
      "If you're using a simulation type that has grids (for instance, here we're using an Enzo simulation) you can examine the structure of the mesh.  For the most part, you probably won't have to use this unless you're debugging a simulation or examining in detail what is going on."
     ]
    },
    {
     "cell_type": "code",
     "collapsed": false,
     "input": [
      "print ds.index.grid_left_edge"
     ],
     "language": "python",
     "metadata": {},
     "outputs": []
    },
    {
     "cell_type": "markdown",
     "metadata": {},
     "source": [
      "But, you may have to access information about individual grid objects!  Each grid object mediates accessing data from the disk and has a number of attributes that tell you about it.  The index (`ds.index` here) has an attribute `grids` which is all of the grid objects."
     ]
    },
    {
     "cell_type": "code",
     "collapsed": false,
     "input": [
      "print ds.index.grids[1]"
     ],
     "language": "python",
     "metadata": {},
     "outputs": []
    },
    {
     "cell_type": "code",
     "collapsed": false,
     "input": [
      "g = ds.index.grids[1]\n",
      "print g"
     ],
     "language": "python",
     "metadata": {},
     "outputs": []
    },
    {
     "cell_type": "markdown",
     "metadata": {},
     "source": [
      "Grids have dimensions, extents, level, and even a list of Child grids."
     ]
    },
    {
     "cell_type": "code",
     "collapsed": false,
     "input": [
      "g.ActiveDimensions"
     ],
     "language": "python",
     "metadata": {},
     "outputs": []
    },
    {
     "cell_type": "code",
     "collapsed": false,
     "input": [
      "g.LeftEdge, g.RightEdge"
     ],
     "language": "python",
     "metadata": {},
     "outputs": []
    },
    {
     "cell_type": "code",
     "collapsed": false,
     "input": [
      "g.Level"
     ],
     "language": "python",
     "metadata": {},
     "outputs": []
    },
    {
     "cell_type": "code",
     "collapsed": false,
     "input": [
      "g.Children"
     ],
     "language": "python",
     "metadata": {},
     "outputs": []
    },
    {
     "cell_type": "markdown",
     "metadata": {},
     "source": [
      "## Advanced Grid Inspection\n",
      "\n",
      "If we want to examine grids only at a given level, we can!  Not only that, but we can load data and take a look at various fields.\n",
      "\n",
      "*This section can be skipped!*"
     ]
    },
    {
     "cell_type": "code",
     "collapsed": false,
     "input": [
      "gs = ds.index.select_grids(ds.index.max_level)"
     ],
     "language": "python",
     "metadata": {},
     "outputs": []
    },
    {
     "cell_type": "code",
     "collapsed": false,
     "input": [
      "g2 = gs[0]\n",
      "print g2\n",
      "print g2.Parent\n",
      "print g2.get_global_startindex()"
     ],
     "language": "python",
     "metadata": {},
     "outputs": []
    },
    {
     "cell_type": "code",
     "collapsed": false,
     "input": [
      "print g2[\"density\"][:,:,0]"
     ],
     "language": "python",
     "metadata": {},
     "outputs": []
    },
    {
     "cell_type": "code",
     "collapsed": false,
     "input": [
      "print (g2.Parent.child_mask == 0).sum() * 8\n",
      "print g2.ActiveDimensions.prod()"
     ],
     "language": "python",
     "metadata": {},
     "outputs": []
    },
    {
     "cell_type": "code",
     "collapsed": false,
     "input": [
      "for f in ds.field_list:\n",
      "    fv = g[f]\n",
      "    if fv.size == 0: continue\n",
      "    print f, fv.min(), fv.max()"
     ],
     "language": "python",
     "metadata": {},
     "outputs": []
    },
    {
     "cell_type": "markdown",
     "metadata": {},
     "source": [
      "# Examining Data in Regions\n",
      "\n",
      "yt provides data object selectors.  In subsequent notebooks we'll examine these in more detail, but we can select a sphere of data and perform a number of operations on it.  yt makes it easy to operate on fluid fields in an object in *bulk*, but you can also examine individual field values.\n",
      "\n",
      "This creates a sphere selector positioned at the most dense point in the simulation that has a radius of 10 kpc."
     ]
    },
    {
     "cell_type": "code",
     "collapsed": false,
     "input": [
      "sp = ds.sphere(\"max\", (10, 'kpc'))"
     ],
     "language": "python",
     "metadata": {},
     "outputs": []
    },
    {
     "cell_type": "code",
     "collapsed": false,
     "input": [
      "print sp"
     ],
     "language": "python",
     "metadata": {},
     "outputs": []
    },
    {
     "cell_type": "markdown",
     "metadata": {},
     "source": [
      "We can calculate a bunch of bulk quantities.  Here's that list, but there's a list in the docs, too!"
     ]
    },
    {
     "cell_type": "code",
     "collapsed": false,
     "input": [
      "print sp.quantities.keys()"
     ],
     "language": "python",
     "metadata": {},
     "outputs": []
    },
    {
     "cell_type": "markdown",
     "metadata": {},
     "source": [
      "Let's look at the total mass.  This is how you call a given quantity.  yt calls these \"Derived Quantities\".  We'll talk about a few in a later notebook."
     ]
    },
    {
     "cell_type": "code",
     "collapsed": false,
     "input": [
      "print sp.quantities.total_mass()"
     ],
     "language": "python",
     "metadata": {},
     "outputs": []
    }
   ],
   "metadata": {}
  }
 ]
}